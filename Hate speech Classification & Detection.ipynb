{
 "cells": [
  {
   "cell_type": "code",
   "execution_count": 55,
   "metadata": {},
   "outputs": [],
   "source": [
    "from nltk.tokenize import TweetTokenizer\n",
    "from nltk.corpus import stopwords\n",
    "from sklearn.pipeline import Pipeline\n",
    "from sklearn.feature_extraction.text import TfidfTransformer, CountVectorizer\n",
    "from sklearn.naive_bayes import MultinomialNB\n",
    "from sklearn.linear_model import SGDClassifier\n",
    "from sklearn.utils import shuffle\n",
    "from sklearn import metrics\n",
    "from nltk.stem.porter import PorterStemmer\n",
    "import sklearn as skl\n",
    "import numpy as np\n",
    "import pandas as pd\n",
    "import seaborn as sns\n",
    "import re\n",
    "import os\n",
    "\n",
    "STOPWORDS = set(stopwords.words('english'))\n",
    "STEMMER = PorterStemmer()"
   ]
  },
  {
   "cell_type": "code",
   "execution_count": 56,
   "metadata": {},
   "outputs": [
    {
     "data": {
      "text/html": "<div>\n<style scoped>\n    .dataframe tbody tr th:only-of-type {\n        vertical-align: middle;\n    }\n\n    .dataframe tbody tr th {\n        vertical-align: top;\n    }\n\n    .dataframe thead th {\n        text-align: right;\n    }\n</style>\n<table border=\"1\" class=\"dataframe\">\n  <thead>\n    <tr style=\"text-align: right;\">\n      <th></th>\n      <th>count</th>\n      <th>hate_speech</th>\n      <th>offensive_language</th>\n      <th>neither</th>\n      <th>class</th>\n      <th>tweet</th>\n    </tr>\n  </thead>\n  <tbody>\n    <tr>\n      <th>0</th>\n      <td>3</td>\n      <td>0</td>\n      <td>0</td>\n      <td>3</td>\n      <td>2</td>\n      <td>!!! RT @mayasolovely: As a woman you shouldn't...</td>\n    </tr>\n    <tr>\n      <th>1</th>\n      <td>3</td>\n      <td>0</td>\n      <td>3</td>\n      <td>0</td>\n      <td>1</td>\n      <td>!!!!! RT @mleew17: boy dats cold...tyga dwn ba...</td>\n    </tr>\n    <tr>\n      <th>2</th>\n      <td>3</td>\n      <td>0</td>\n      <td>3</td>\n      <td>0</td>\n      <td>1</td>\n      <td>!!!!!!! RT @UrKindOfBrand Dawg!!!! RT @80sbaby...</td>\n    </tr>\n    <tr>\n      <th>3</th>\n      <td>3</td>\n      <td>0</td>\n      <td>2</td>\n      <td>1</td>\n      <td>1</td>\n      <td>!!!!!!!!! RT @C_G_Anderson: @viva_based she lo...</td>\n    </tr>\n    <tr>\n      <th>4</th>\n      <td>6</td>\n      <td>0</td>\n      <td>6</td>\n      <td>0</td>\n      <td>1</td>\n      <td>!!!!!!!!!!!!! RT @ShenikaRoberts: The shit you...</td>\n    </tr>\n    <tr>\n      <th>...</th>\n      <td>...</td>\n      <td>...</td>\n      <td>...</td>\n      <td>...</td>\n      <td>...</td>\n      <td>...</td>\n    </tr>\n    <tr>\n      <th>25291</th>\n      <td>3</td>\n      <td>0</td>\n      <td>2</td>\n      <td>1</td>\n      <td>1</td>\n      <td>you's a muthaf***in lie &amp;#8220;@LifeAsKing: @2...</td>\n    </tr>\n    <tr>\n      <th>25292</th>\n      <td>3</td>\n      <td>0</td>\n      <td>1</td>\n      <td>2</td>\n      <td>2</td>\n      <td>you've gone and broke the wrong heart baby, an...</td>\n    </tr>\n    <tr>\n      <th>25294</th>\n      <td>3</td>\n      <td>0</td>\n      <td>3</td>\n      <td>0</td>\n      <td>1</td>\n      <td>young buck wanna eat!!.. dat nigguh like I ain...</td>\n    </tr>\n    <tr>\n      <th>25295</th>\n      <td>6</td>\n      <td>0</td>\n      <td>6</td>\n      <td>0</td>\n      <td>1</td>\n      <td>youu got wild bitches tellin you lies</td>\n    </tr>\n    <tr>\n      <th>25296</th>\n      <td>3</td>\n      <td>0</td>\n      <td>0</td>\n      <td>3</td>\n      <td>2</td>\n      <td>~~Ruffled | Ntac Eileen Dahlia - Beautiful col...</td>\n    </tr>\n  </tbody>\n</table>\n<p>24783 rows × 6 columns</p>\n</div>",
      "text/plain": "       count  hate_speech  offensive_language  neither  class  \\\n0          3            0                   0        3      2   \n1          3            0                   3        0      1   \n2          3            0                   3        0      1   \n3          3            0                   2        1      1   \n4          6            0                   6        0      1   \n...      ...          ...                 ...      ...    ...   \n25291      3            0                   2        1      1   \n25292      3            0                   1        2      2   \n25294      3            0                   3        0      1   \n25295      6            0                   6        0      1   \n25296      3            0                   0        3      2   \n\n                                                   tweet  \n0      !!! RT @mayasolovely: As a woman you shouldn't...  \n1      !!!!! RT @mleew17: boy dats cold...tyga dwn ba...  \n2      !!!!!!! RT @UrKindOfBrand Dawg!!!! RT @80sbaby...  \n3      !!!!!!!!! RT @C_G_Anderson: @viva_based she lo...  \n4      !!!!!!!!!!!!! RT @ShenikaRoberts: The shit you...  \n...                                                  ...  \n25291  you's a muthaf***in lie &#8220;@LifeAsKing: @2...  \n25292  you've gone and broke the wrong heart baby, an...  \n25294  young buck wanna eat!!.. dat nigguh like I ain...  \n25295              youu got wild bitches tellin you lies  \n25296  ~~Ruffled | Ntac Eileen Dahlia - Beautiful col...  \n\n[24783 rows x 6 columns]"
     },
     "execution_count": 56,
     "metadata": {},
     "output_type": "execute_result"
    }
   ],
   "source": [
    "old_data = pd.read_csv(\"Davidson&al.csv\")\n",
    "old_data"
   ]
  },
  {
   "cell_type": "code",
   "execution_count": 57,
   "metadata": {},
   "outputs": [],
   "source": [
    "old_data = pd.concat([old_data[\"class\"], old_data[\"tweet\"]], axis=1)"
   ]
  },
  {
   "cell_type": "code",
   "execution_count": 58,
   "metadata": {},
   "outputs": [],
   "source": [
    "old_data.replace({0: \"hate speech\", 1: \"offensive language\", 2: \"normal\"}, inplace=True)"
   ]
  },
  {
   "cell_type": "code",
   "execution_count": 59,
   "metadata": {},
   "outputs": [
    {
     "data": {
      "text/html": "<div>\n<style scoped>\n    .dataframe tbody tr th:only-of-type {\n        vertical-align: middle;\n    }\n\n    .dataframe tbody tr th {\n        vertical-align: top;\n    }\n\n    .dataframe thead th {\n        text-align: right;\n    }\n</style>\n<table border=\"1\" class=\"dataframe\">\n  <thead>\n    <tr style=\"text-align: right;\">\n      <th></th>\n      <th>class</th>\n      <th>tweet</th>\n    </tr>\n  </thead>\n  <tbody>\n    <tr>\n      <th>24</th>\n      <td>offensive language</td>\n      <td>\" got ya bitch tip toeing on my hardwood floor...</td>\n    </tr>\n    <tr>\n      <th>41</th>\n      <td>offensive language</td>\n      <td>\" most hated but the hoes favorite \" #2MW #Sev...</td>\n    </tr>\n    <tr>\n      <th>42</th>\n      <td>offensive language</td>\n      <td>\" nice girls bad, make me get naughty. Bad yel...</td>\n    </tr>\n    <tr>\n      <th>45</th>\n      <td>offensive language</td>\n      <td>\" pussy is a powerful drug \" &amp;#128517; #HappyH...</td>\n    </tr>\n    <tr>\n      <th>62</th>\n      <td>offensive language</td>\n      <td>\"@ARIZZLEINDACUT: Females think dating a pussy...</td>\n    </tr>\n    <tr>\n      <th>...</th>\n      <td>...</td>\n      <td>...</td>\n    </tr>\n    <tr>\n      <th>25191</th>\n      <td>offensive language</td>\n      <td>when you first walked in the door at that part...</td>\n    </tr>\n    <tr>\n      <th>25234</th>\n      <td>normal</td>\n      <td>wth is that playing missy? ........ i mean ser...</td>\n    </tr>\n    <tr>\n      <th>25252</th>\n      <td>offensive language</td>\n      <td>yeah I'm small den a hoe http://t.co/VV3qdTo7MG</td>\n    </tr>\n    <tr>\n      <th>25276</th>\n      <td>offensive language</td>\n      <td>you gotta be a new breed of retarded if you do...</td>\n    </tr>\n    <tr>\n      <th>25296</th>\n      <td>normal</td>\n      <td>~~Ruffled | Ntac Eileen Dahlia - Beautiful col...</td>\n    </tr>\n  </tbody>\n</table>\n<p>3025 rows × 2 columns</p>\n</div>",
      "text/plain": "                    class                                              tweet\n24     offensive language  \" got ya bitch tip toeing on my hardwood floor...\n41     offensive language  \" most hated but the hoes favorite \" #2MW #Sev...\n42     offensive language  \" nice girls bad, make me get naughty. Bad yel...\n45     offensive language  \" pussy is a powerful drug \" &#128517; #HappyH...\n62     offensive language  \"@ARIZZLEINDACUT: Females think dating a pussy...\n...                   ...                                                ...\n25191  offensive language  when you first walked in the door at that part...\n25234              normal  wth is that playing missy? ........ i mean ser...\n25252  offensive language    yeah I'm small den a hoe http://t.co/VV3qdTo7MG\n25276  offensive language  you gotta be a new breed of retarded if you do...\n25296              normal  ~~Ruffled | Ntac Eileen Dahlia - Beautiful col...\n\n[3025 rows x 2 columns]"
     },
     "execution_count": 59,
     "metadata": {},
     "output_type": "execute_result"
    }
   ],
   "source": [
    "old_data[old_data[\"tweet\"].str.contains(\"http\")]"
   ]
  },
  {
   "cell_type": "code",
   "execution_count": 60,
   "metadata": {},
   "outputs": [
    {
     "data": {
      "text/html": "<div>\n<style scoped>\n    .dataframe tbody tr th:only-of-type {\n        vertical-align: middle;\n    }\n\n    .dataframe tbody tr th {\n        vertical-align: top;\n    }\n\n    .dataframe thead th {\n        text-align: right;\n    }\n</style>\n<table border=\"1\" class=\"dataframe\">\n  <thead>\n    <tr style=\"text-align: right;\">\n      <th></th>\n      <th>class</th>\n      <th>tweet</th>\n    </tr>\n  </thead>\n  <tbody>\n    <tr>\n      <th>0</th>\n      <td>normal</td>\n      <td>!!! RT @mayasolovely: As a woman you shouldn't...</td>\n    </tr>\n    <tr>\n      <th>1</th>\n      <td>offensive language</td>\n      <td>!!!!! RT @mleew17: boy dats cold...tyga dwn ba...</td>\n    </tr>\n    <tr>\n      <th>2</th>\n      <td>offensive language</td>\n      <td>!!!!!!! RT @UrKindOfBrand Dawg!!!! RT @80sbaby...</td>\n    </tr>\n    <tr>\n      <th>3</th>\n      <td>offensive language</td>\n      <td>!!!!!!!!! RT @C_G_Anderson: @viva_based she lo...</td>\n    </tr>\n    <tr>\n      <th>4</th>\n      <td>offensive language</td>\n      <td>!!!!!!!!!!!!! RT @ShenikaRoberts: The shit you...</td>\n    </tr>\n    <tr>\n      <th>...</th>\n      <td>...</td>\n      <td>...</td>\n    </tr>\n    <tr>\n      <th>25291</th>\n      <td>offensive language</td>\n      <td>you's a muthaf***in lie &amp;#8220;@LifeAsKing: @2...</td>\n    </tr>\n    <tr>\n      <th>25292</th>\n      <td>normal</td>\n      <td>you've gone and broke the wrong heart baby, an...</td>\n    </tr>\n    <tr>\n      <th>25294</th>\n      <td>offensive language</td>\n      <td>young buck wanna eat!!.. dat nigguh like I ain...</td>\n    </tr>\n    <tr>\n      <th>25295</th>\n      <td>offensive language</td>\n      <td>youu got wild bitches tellin you lies</td>\n    </tr>\n    <tr>\n      <th>25296</th>\n      <td>normal</td>\n      <td>~~Ruffled | Ntac Eileen Dahlia - Beautiful col...</td>\n    </tr>\n  </tbody>\n</table>\n<p>24783 rows × 2 columns</p>\n</div>",
      "text/plain": "                    class                                              tweet\n0                  normal  !!! RT @mayasolovely: As a woman you shouldn't...\n1      offensive language  !!!!! RT @mleew17: boy dats cold...tyga dwn ba...\n2      offensive language  !!!!!!! RT @UrKindOfBrand Dawg!!!! RT @80sbaby...\n3      offensive language  !!!!!!!!! RT @C_G_Anderson: @viva_based she lo...\n4      offensive language  !!!!!!!!!!!!! RT @ShenikaRoberts: The shit you...\n...                   ...                                                ...\n25291  offensive language  you's a muthaf***in lie &#8220;@LifeAsKing: @2...\n25292              normal  you've gone and broke the wrong heart baby, an...\n25294  offensive language  young buck wanna eat!!.. dat nigguh like I ain...\n25295  offensive language              youu got wild bitches tellin you lies\n25296              normal  ~~Ruffled | Ntac Eileen Dahlia - Beautiful col...\n\n[24783 rows x 2 columns]"
     },
     "execution_count": 60,
     "metadata": {},
     "output_type": "execute_result"
    }
   ],
   "source": [
    "old_data"
   ]
  },
  {
   "cell_type": "code",
   "execution_count": 61,
   "metadata": {},
   "outputs": [],
   "source": [
    "def sanitize_tweet(tweet):\n",
    "    text = re.sub(\"\\\"+\", \"\", tweet)\n",
    "    text = re.sub(\"\\s+\", \" \", text)\n",
    "    text = re.sub(\"RT\", \"\", text)\n",
    "    text = re.sub(\"https?:?/?/?[^\\s]+\", \"\", text)\n",
    "    text = re.sub(\"&#[0-9]+;\", \"\", text)\n",
    "    text = re.sub(\"&.+;\", \"\", text)\n",
    "    tknzr = TweetTokenizer(preserve_case=False, strip_handles=True)\n",
    "    text = \" \".join([STEMMER.stem(s) for s in tknzr.tokenize(text) if s.isalpha() and s not in STOPWORDS])\n",
    "    return text"
   ]
  },
  {
   "cell_type": "code",
   "execution_count": 62,
   "metadata": {},
   "outputs": [],
   "source": [
    "old_data[\"tweet\"] = old_data[\"tweet\"].apply(sanitize_tweet)"
   ]
  },
  {
   "cell_type": "code",
   "execution_count": 63,
   "metadata": {},
   "outputs": [
    {
     "data": {
      "text/html": "<div>\n<style scoped>\n    .dataframe tbody tr th:only-of-type {\n        vertical-align: middle;\n    }\n\n    .dataframe tbody tr th {\n        vertical-align: top;\n    }\n\n    .dataframe thead th {\n        text-align: right;\n    }\n</style>\n<table border=\"1\" class=\"dataframe\">\n  <thead>\n    <tr style=\"text-align: right;\">\n      <th></th>\n      <th>class</th>\n      <th>tweet</th>\n    </tr>\n  </thead>\n  <tbody>\n  </tbody>\n</table>\n</div>",
      "text/plain": "Empty DataFrame\nColumns: [class, tweet]\nIndex: []"
     },
     "execution_count": 63,
     "metadata": {},
     "output_type": "execute_result"
    }
   ],
   "source": [
    "old_data[old_data[\"tweet\"].str.contains(\"http\")]"
   ]
  },
  {
   "cell_type": "code",
   "execution_count": 64,
   "metadata": {},
   "outputs": [
    {
     "data": {
      "text/html": "<div>\n<style scoped>\n    .dataframe tbody tr th:only-of-type {\n        vertical-align: middle;\n    }\n\n    .dataframe tbody tr th {\n        vertical-align: top;\n    }\n\n    .dataframe thead th {\n        text-align: right;\n    }\n</style>\n<table border=\"1\" class=\"dataframe\">\n  <thead>\n    <tr style=\"text-align: right;\">\n      <th></th>\n      <th>class</th>\n      <th>tweet</th>\n    </tr>\n  </thead>\n  <tbody>\n    <tr>\n      <th>0</th>\n      <td>normal</td>\n      <td>woman complain clean hous man alway take trash</td>\n    </tr>\n    <tr>\n      <th>1</th>\n      <td>offensive language</td>\n      <td>boy dat cold tyga dwn bad cuffin dat hoe place</td>\n    </tr>\n    <tr>\n      <th>2</th>\n      <td>offensive language</td>\n      <td>dawg ever fuck bitch start cri confus shit</td>\n    </tr>\n    <tr>\n      <th>3</th>\n      <td>offensive language</td>\n      <td>look like tranni</td>\n    </tr>\n    <tr>\n      <th>4</th>\n      <td>offensive language</td>\n      <td>shit hear might true might faker bitch told ya</td>\n    </tr>\n    <tr>\n      <th>...</th>\n      <td>...</td>\n      <td>...</td>\n    </tr>\n    <tr>\n      <th>25291</th>\n      <td>offensive language</td>\n      <td>muthaf lie right tl trash mine bibl scriptur hymn</td>\n    </tr>\n    <tr>\n      <th>25292</th>\n      <td>normal</td>\n      <td>gone broke wrong heart babi drove redneck crazi</td>\n    </tr>\n    <tr>\n      <th>25294</th>\n      <td>offensive language</td>\n      <td>young buck wanna eat dat nigguh like aint fuck...</td>\n    </tr>\n    <tr>\n      <th>25295</th>\n      <td>offensive language</td>\n      <td>youu got wild bitch tellin lie</td>\n    </tr>\n    <tr>\n      <th>25296</th>\n      <td>normal</td>\n      <td>ruffl ntac eileen dahlia beauti color combin p...</td>\n    </tr>\n  </tbody>\n</table>\n<p>24783 rows × 2 columns</p>\n</div>",
      "text/plain": "                    class                                              tweet\n0                  normal     woman complain clean hous man alway take trash\n1      offensive language     boy dat cold tyga dwn bad cuffin dat hoe place\n2      offensive language         dawg ever fuck bitch start cri confus shit\n3      offensive language                                   look like tranni\n4      offensive language     shit hear might true might faker bitch told ya\n...                   ...                                                ...\n25291  offensive language  muthaf lie right tl trash mine bibl scriptur hymn\n25292              normal    gone broke wrong heart babi drove redneck crazi\n25294  offensive language  young buck wanna eat dat nigguh like aint fuck...\n25295  offensive language                     youu got wild bitch tellin lie\n25296              normal  ruffl ntac eileen dahlia beauti color combin p...\n\n[24783 rows x 2 columns]"
     },
     "execution_count": 64,
     "metadata": {},
     "output_type": "execute_result"
    }
   ],
   "source": [
    "old_data"
   ]
  },
  {
   "cell_type": "code",
   "execution_count": 65,
   "metadata": {},
   "outputs": [
    {
     "data": {
      "text/plain": "['offensive language', 'son bitch took tic tac like movi']"
     },
     "execution_count": 65,
     "metadata": {},
     "output_type": "execute_result"
    }
   ],
   "source": [
    "old_data.loc[58,:,].tolist()"
   ]
  },
  {
   "cell_type": "code",
   "execution_count": 66,
   "metadata": {},
   "outputs": [
    {
     "ename": "NameError",
     "evalue": "name 'data' is not defined",
     "output_type": "error",
     "traceback": [
      "\u001b[1;31m---------------------------------------------------------------------------\u001b[0m",
      "\u001b[1;31mNameError\u001b[0m                                 Traceback (most recent call last)",
      "\u001b[1;32m<ipython-input-66-197b2b28cef4>\u001b[0m in \u001b[0;36m<module>\u001b[1;34m\u001b[0m\n\u001b[0;32m      3\u001b[0m \u001b[0mol\u001b[0m \u001b[1;33m=\u001b[0m \u001b[0mold_ol\u001b[0m\u001b[1;33m[\u001b[0m\u001b[1;33m:\u001b[0m\u001b[1;36m4000\u001b[0m\u001b[1;33m]\u001b[0m\u001b[1;33m\u001b[0m\u001b[1;33m\u001b[0m\u001b[0m\n\u001b[0;32m      4\u001b[0m \u001b[1;33m\u001b[0m\u001b[0m\n\u001b[1;32m----> 5\u001b[1;33m \u001b[0mrest\u001b[0m \u001b[1;33m=\u001b[0m \u001b[0mdata\u001b[0m\u001b[1;33m.\u001b[0m\u001b[0mloc\u001b[0m\u001b[1;33m[\u001b[0m\u001b[0mold_data\u001b[0m\u001b[1;33m[\u001b[0m\u001b[1;34m'class'\u001b[0m\u001b[1;33m]\u001b[0m \u001b[1;33m!=\u001b[0m \u001b[1;34m\"offensive language\"\u001b[0m\u001b[1;33m]\u001b[0m\u001b[1;33m\u001b[0m\u001b[1;33m\u001b[0m\u001b[0m\n\u001b[0m\u001b[0;32m      6\u001b[0m \u001b[0mrest\u001b[0m \u001b[1;33m=\u001b[0m \u001b[0mrest\u001b[0m\u001b[1;33m.\u001b[0m\u001b[0mappend\u001b[0m\u001b[1;33m(\u001b[0m\u001b[0mol\u001b[0m\u001b[1;33m)\u001b[0m\u001b[1;33m\u001b[0m\u001b[1;33m\u001b[0m\u001b[0m\n\u001b[0;32m      7\u001b[0m \u001b[0mdata\u001b[0m \u001b[1;33m=\u001b[0m \u001b[0mrest\u001b[0m\u001b[1;33m\u001b[0m\u001b[1;33m\u001b[0m\u001b[0m\n",
      "\u001b[1;31mNameError\u001b[0m: name 'data' is not defined"
     ]
    }
   ],
   "source": [
    "ol = old_data.loc[old_data['class'] == \"offensive language\"]\n",
    "old_ol = shuffle(ol)\n",
    "ol = old_ol[:4000]\n",
    "\n",
    "rest = old_data.loc[old_data['class'] != \"offensive language\"]\n",
    "rest = rest.append(ol)\n",
    "data = rest"
   ]
  },
  {
   "cell_type": "code",
   "execution_count": 0,
   "metadata": {},
   "outputs": [],
   "source": [
    "clf = Pipeline([('vect', CountVectorizer()), ('tfidf', TfidfTransformer()), ('clf', SGDClassifier()),])\n",
    "clf = clf.fit(data[\"tweet\"], data[\"class\"])"
   ]
  },
  {
   "cell_type": "code",
   "execution_count": 0,
   "metadata": {},
   "outputs": [],
   "source": [
    "docs_new = [\"Hey, panini head! Are you listening?\", \"You're an idiot sandwich\", \"Fuck off you fat useless sack of fucking yankee dankee doodle shite\", \"You surprise me as to how bad you are\", \"Fuck off! Fuck off! Fuck off! Fuck off!\", \"You guys cook like old people.\", \"There’s enough garlic in here to kill every vampire in Europe.\", \"This soufflé has sunk so badly James Cameron wants to make a film about it.\", \"He cant's count to fucking two!\", \"You deserve a kick in the nuts\", \"You look like you're just about to lose your virginity.\", \"You're a fucking disgrace\"]\n",
    "docs_new_sanitized = [sanitize_tweet(s) for s in docs_new]\n",
    "predicted = clf.predict(docs_new_sanitized)\n",
    "for x,y in zip(docs_new, predicted):\n",
    "    print(x, \"->\", y)"
   ]
  },
  {
   "cell_type": "code",
   "execution_count": 0,
   "metadata": {},
   "outputs": [],
   "source": [
    "sns.countplot(x=\"class\", data=data)"
   ]
  },
  {
   "cell_type": "code",
   "execution_count": 0,
   "metadata": {},
   "outputs": [],
   "source": [
    "print(metrics.classification_report(data[\"class\"], clf.predict(data[\"tweet\"])))"
   ]
  },
  {
   "cell_type": "code",
   "execution_count": 0,
   "metadata": {},
   "outputs": [],
   "source": [
    "print(metrics.classification_report(old_ol[\"class\"], clf.predict(old_ol[\"tweet\"])))"
   ]
  },
  {
   "cell_type": "code",
   "execution_count": 0,
   "metadata": {},
   "outputs": [],
   "source": [
    "print(metrics.classification_report(old_data[\"class\"], clf.predict(old_data[\"tweet\"])))"
   ]
  },
  {
   "cell_type": "code",
   "execution_count": null,
   "metadata": {},
   "outputs": [],
   "source": []
  }
 ],
 "metadata": {
  "kernelspec": {
   "display_name": "Python 3",
   "language": "python",
   "name": "python3"
  },
  "language_info": {
   "codemirror_mode": {
    "name": "ipython",
    "version": 3
   },
   "file_extension": ".py",
   "mimetype": "text/x-python",
   "name": "python",
   "nbconvert_exporter": "python",
   "pygments_lexer": "ipython3",
   "version": "3.7.4"
  }
 },
 "nbformat": 4,
 "nbformat_minor": 2
}