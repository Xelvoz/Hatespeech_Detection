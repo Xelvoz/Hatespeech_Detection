{
 "cells": [
  {
   "cell_type": "code",
   "execution_count": 1386,
   "metadata": {},
   "outputs": [],
   "source": [
    "from nltk.tokenize import TweetTokenizer\n",
    "from nltk.corpus import stopwords\n",
    "from sklearn.pipeline import Pipeline\n",
    "from sklearn.feature_extraction.text import TfidfTransformer, CountVectorizer\n",
    "from sklearn.naive_bayes import MultinomialNB\n",
    "from sklearn.linear_model import SGDClassifier\n",
    "from sklearn.utils import shuffle\n",
    "from sklearn import metrics\n",
    "from nltk.stem.porter import PorterStemmer\n",
    "import sklearn as skl\n",
    "import numpy as np\n",
    "import pandas as pd\n",
    "import seaborn as sns\n",
    "import re\n",
    "import os\n",
    "\n",
    "STOPWORDS = set(stopwords.words('english'))\n",
    "STEMMER = PorterStemmer()"
   ]
  },
  {
   "cell_type": "code",
   "execution_count": 1387,
   "metadata": {},
   "outputs": [
    {
     "data": {
      "text/html": [
       "<div>\n",
       "<style scoped>\n",
       "    .dataframe tbody tr th:only-of-type {\n",
       "        vertical-align: middle;\n",
       "    }\n",
       "\n",
       "    .dataframe tbody tr th {\n",
       "        vertical-align: top;\n",
       "    }\n",
       "\n",
       "    .dataframe thead th {\n",
       "        text-align: right;\n",
       "    }\n",
       "</style>\n",
       "<table border=\"1\" class=\"dataframe\">\n",
       "  <thead>\n",
       "    <tr style=\"text-align: right;\">\n",
       "      <th></th>\n",
       "      <th>count</th>\n",
       "      <th>hate_speech</th>\n",
       "      <th>offensive_language</th>\n",
       "      <th>neither</th>\n",
       "      <th>class</th>\n",
       "      <th>tweet</th>\n",
       "    </tr>\n",
       "  </thead>\n",
       "  <tbody>\n",
       "    <tr>\n",
       "      <th>0</th>\n",
       "      <td>3</td>\n",
       "      <td>0</td>\n",
       "      <td>0</td>\n",
       "      <td>3</td>\n",
       "      <td>2</td>\n",
       "      <td>!!! RT @mayasolovely: As a woman you shouldn't...</td>\n",
       "    </tr>\n",
       "    <tr>\n",
       "      <th>1</th>\n",
       "      <td>3</td>\n",
       "      <td>0</td>\n",
       "      <td>3</td>\n",
       "      <td>0</td>\n",
       "      <td>1</td>\n",
       "      <td>!!!!! RT @mleew17: boy dats cold...tyga dwn ba...</td>\n",
       "    </tr>\n",
       "    <tr>\n",
       "      <th>2</th>\n",
       "      <td>3</td>\n",
       "      <td>0</td>\n",
       "      <td>3</td>\n",
       "      <td>0</td>\n",
       "      <td>1</td>\n",
       "      <td>!!!!!!! RT @UrKindOfBrand Dawg!!!! RT @80sbaby...</td>\n",
       "    </tr>\n",
       "    <tr>\n",
       "      <th>3</th>\n",
       "      <td>3</td>\n",
       "      <td>0</td>\n",
       "      <td>2</td>\n",
       "      <td>1</td>\n",
       "      <td>1</td>\n",
       "      <td>!!!!!!!!! RT @C_G_Anderson: @viva_based she lo...</td>\n",
       "    </tr>\n",
       "    <tr>\n",
       "      <th>4</th>\n",
       "      <td>6</td>\n",
       "      <td>0</td>\n",
       "      <td>6</td>\n",
       "      <td>0</td>\n",
       "      <td>1</td>\n",
       "      <td>!!!!!!!!!!!!! RT @ShenikaRoberts: The shit you...</td>\n",
       "    </tr>\n",
       "    <tr>\n",
       "      <th>...</th>\n",
       "      <td>...</td>\n",
       "      <td>...</td>\n",
       "      <td>...</td>\n",
       "      <td>...</td>\n",
       "      <td>...</td>\n",
       "      <td>...</td>\n",
       "    </tr>\n",
       "    <tr>\n",
       "      <th>25291</th>\n",
       "      <td>3</td>\n",
       "      <td>0</td>\n",
       "      <td>2</td>\n",
       "      <td>1</td>\n",
       "      <td>1</td>\n",
       "      <td>you's a muthaf***in lie &amp;#8220;@LifeAsKing: @2...</td>\n",
       "    </tr>\n",
       "    <tr>\n",
       "      <th>25292</th>\n",
       "      <td>3</td>\n",
       "      <td>0</td>\n",
       "      <td>1</td>\n",
       "      <td>2</td>\n",
       "      <td>2</td>\n",
       "      <td>you've gone and broke the wrong heart baby, an...</td>\n",
       "    </tr>\n",
       "    <tr>\n",
       "      <th>25294</th>\n",
       "      <td>3</td>\n",
       "      <td>0</td>\n",
       "      <td>3</td>\n",
       "      <td>0</td>\n",
       "      <td>1</td>\n",
       "      <td>young buck wanna eat!!.. dat nigguh like I ain...</td>\n",
       "    </tr>\n",
       "    <tr>\n",
       "      <th>25295</th>\n",
       "      <td>6</td>\n",
       "      <td>0</td>\n",
       "      <td>6</td>\n",
       "      <td>0</td>\n",
       "      <td>1</td>\n",
       "      <td>youu got wild bitches tellin you lies</td>\n",
       "    </tr>\n",
       "    <tr>\n",
       "      <th>25296</th>\n",
       "      <td>3</td>\n",
       "      <td>0</td>\n",
       "      <td>0</td>\n",
       "      <td>3</td>\n",
       "      <td>2</td>\n",
       "      <td>~~Ruffled | Ntac Eileen Dahlia - Beautiful col...</td>\n",
       "    </tr>\n",
       "  </tbody>\n",
       "</table>\n",
       "<p>24783 rows × 6 columns</p>\n",
       "</div>"
      ],
      "text/plain": [
       "       count  hate_speech  offensive_language  neither  class  \\\n",
       "0          3            0                   0        3      2   \n",
       "1          3            0                   3        0      1   \n",
       "2          3            0                   3        0      1   \n",
       "3          3            0                   2        1      1   \n",
       "4          6            0                   6        0      1   \n",
       "...      ...          ...                 ...      ...    ...   \n",
       "25291      3            0                   2        1      1   \n",
       "25292      3            0                   1        2      2   \n",
       "25294      3            0                   3        0      1   \n",
       "25295      6            0                   6        0      1   \n",
       "25296      3            0                   0        3      2   \n",
       "\n",
       "                                                   tweet  \n",
       "0      !!! RT @mayasolovely: As a woman you shouldn't...  \n",
       "1      !!!!! RT @mleew17: boy dats cold...tyga dwn ba...  \n",
       "2      !!!!!!! RT @UrKindOfBrand Dawg!!!! RT @80sbaby...  \n",
       "3      !!!!!!!!! RT @C_G_Anderson: @viva_based she lo...  \n",
       "4      !!!!!!!!!!!!! RT @ShenikaRoberts: The shit you...  \n",
       "...                                                  ...  \n",
       "25291  you's a muthaf***in lie &#8220;@LifeAsKing: @2...  \n",
       "25292  you've gone and broke the wrong heart baby, an...  \n",
       "25294  young buck wanna eat!!.. dat nigguh like I ain...  \n",
       "25295              youu got wild bitches tellin you lies  \n",
       "25296  ~~Ruffled | Ntac Eileen Dahlia - Beautiful col...  \n",
       "\n",
       "[24783 rows x 6 columns]"
      ]
     },
     "execution_count": 1387,
     "metadata": {},
     "output_type": "execute_result"
    }
   ],
   "source": [
    "old_data = pd.read_csv(\"Davidson&al.csv\")\n",
    "old_data"
   ]
  },
  {
   "cell_type": "code",
   "execution_count": 1388,
   "metadata": {},
   "outputs": [],
   "source": [
    "old_data = pd.concat([old_data[\"class\"], old_data[\"tweet\"]], axis=1)"
   ]
  },
  {
   "cell_type": "code",
   "execution_count": 1389,
   "metadata": {},
   "outputs": [],
   "source": [
    "old_data.replace({0: \"hate speech\", 1: \"offensive language\", 2: \"normal\"}, inplace=True)"
   ]
  },
  {
   "cell_type": "code",
   "execution_count": 1390,
   "metadata": {},
   "outputs": [
    {
     "data": {
      "text/html": [
       "<div>\n",
       "<style scoped>\n",
       "    .dataframe tbody tr th:only-of-type {\n",
       "        vertical-align: middle;\n",
       "    }\n",
       "\n",
       "    .dataframe tbody tr th {\n",
       "        vertical-align: top;\n",
       "    }\n",
       "\n",
       "    .dataframe thead th {\n",
       "        text-align: right;\n",
       "    }\n",
       "</style>\n",
       "<table border=\"1\" class=\"dataframe\">\n",
       "  <thead>\n",
       "    <tr style=\"text-align: right;\">\n",
       "      <th></th>\n",
       "      <th>class</th>\n",
       "      <th>tweet</th>\n",
       "    </tr>\n",
       "  </thead>\n",
       "  <tbody>\n",
       "    <tr>\n",
       "      <th>24</th>\n",
       "      <td>offensive language</td>\n",
       "      <td>\" got ya bitch tip toeing on my hardwood floor...</td>\n",
       "    </tr>\n",
       "    <tr>\n",
       "      <th>41</th>\n",
       "      <td>offensive language</td>\n",
       "      <td>\" most hated but the hoes favorite \" #2MW #Sev...</td>\n",
       "    </tr>\n",
       "    <tr>\n",
       "      <th>42</th>\n",
       "      <td>offensive language</td>\n",
       "      <td>\" nice girls bad, make me get naughty. Bad yel...</td>\n",
       "    </tr>\n",
       "    <tr>\n",
       "      <th>45</th>\n",
       "      <td>offensive language</td>\n",
       "      <td>\" pussy is a powerful drug \" &amp;#128517; #HappyH...</td>\n",
       "    </tr>\n",
       "    <tr>\n",
       "      <th>62</th>\n",
       "      <td>offensive language</td>\n",
       "      <td>\"@ARIZZLEINDACUT: Females think dating a pussy...</td>\n",
       "    </tr>\n",
       "    <tr>\n",
       "      <th>...</th>\n",
       "      <td>...</td>\n",
       "      <td>...</td>\n",
       "    </tr>\n",
       "    <tr>\n",
       "      <th>25191</th>\n",
       "      <td>offensive language</td>\n",
       "      <td>when you first walked in the door at that part...</td>\n",
       "    </tr>\n",
       "    <tr>\n",
       "      <th>25234</th>\n",
       "      <td>normal</td>\n",
       "      <td>wth is that playing missy? ........ i mean ser...</td>\n",
       "    </tr>\n",
       "    <tr>\n",
       "      <th>25252</th>\n",
       "      <td>offensive language</td>\n",
       "      <td>yeah I'm small den a hoe http://t.co/VV3qdTo7MG</td>\n",
       "    </tr>\n",
       "    <tr>\n",
       "      <th>25276</th>\n",
       "      <td>offensive language</td>\n",
       "      <td>you gotta be a new breed of retarded if you do...</td>\n",
       "    </tr>\n",
       "    <tr>\n",
       "      <th>25296</th>\n",
       "      <td>normal</td>\n",
       "      <td>~~Ruffled | Ntac Eileen Dahlia - Beautiful col...</td>\n",
       "    </tr>\n",
       "  </tbody>\n",
       "</table>\n",
       "<p>3025 rows × 2 columns</p>\n",
       "</div>"
      ],
      "text/plain": [
       "                    class                                              tweet\n",
       "24     offensive language  \" got ya bitch tip toeing on my hardwood floor...\n",
       "41     offensive language  \" most hated but the hoes favorite \" #2MW #Sev...\n",
       "42     offensive language  \" nice girls bad, make me get naughty. Bad yel...\n",
       "45     offensive language  \" pussy is a powerful drug \" &#128517; #HappyH...\n",
       "62     offensive language  \"@ARIZZLEINDACUT: Females think dating a pussy...\n",
       "...                   ...                                                ...\n",
       "25191  offensive language  when you first walked in the door at that part...\n",
       "25234              normal  wth is that playing missy? ........ i mean ser...\n",
       "25252  offensive language    yeah I'm small den a hoe http://t.co/VV3qdTo7MG\n",
       "25276  offensive language  you gotta be a new breed of retarded if you do...\n",
       "25296              normal  ~~Ruffled | Ntac Eileen Dahlia - Beautiful col...\n",
       "\n",
       "[3025 rows x 2 columns]"
      ]
     },
     "execution_count": 1390,
     "metadata": {},
     "output_type": "execute_result"
    }
   ],
   "source": [
    "old_data[old_data[\"tweet\"].str.contains(\"http\")]"
   ]
  },
  {
   "cell_type": "code",
   "execution_count": 1391,
   "metadata": {},
   "outputs": [
    {
     "data": {
      "text/html": [
       "<div>\n",
       "<style scoped>\n",
       "    .dataframe tbody tr th:only-of-type {\n",
       "        vertical-align: middle;\n",
       "    }\n",
       "\n",
       "    .dataframe tbody tr th {\n",
       "        vertical-align: top;\n",
       "    }\n",
       "\n",
       "    .dataframe thead th {\n",
       "        text-align: right;\n",
       "    }\n",
       "</style>\n",
       "<table border=\"1\" class=\"dataframe\">\n",
       "  <thead>\n",
       "    <tr style=\"text-align: right;\">\n",
       "      <th></th>\n",
       "      <th>class</th>\n",
       "      <th>tweet</th>\n",
       "    </tr>\n",
       "  </thead>\n",
       "  <tbody>\n",
       "    <tr>\n",
       "      <th>0</th>\n",
       "      <td>normal</td>\n",
       "      <td>woman complain clean hous man alway take trash</td>\n",
       "    </tr>\n",
       "    <tr>\n",
       "      <th>40</th>\n",
       "      <td>normal</td>\n",
       "      <td>momma said pussi cat insid doghous</td>\n",
       "    </tr>\n",
       "    <tr>\n",
       "      <th>63</th>\n",
       "      <td>normal</td>\n",
       "      <td>simplyaddictedtoguy woof woof hot scalli lad</td>\n",
       "    </tr>\n",
       "    <tr>\n",
       "      <th>66</th>\n",
       "      <td>normal</td>\n",
       "      <td>woof woof hot sole</td>\n",
       "    </tr>\n",
       "    <tr>\n",
       "      <th>67</th>\n",
       "      <td>normal</td>\n",
       "      <td>lemmi eat oreo dish one oreo lol</td>\n",
       "    </tr>\n",
       "    <tr>\n",
       "      <th>...</th>\n",
       "      <td>...</td>\n",
       "      <td>...</td>\n",
       "    </tr>\n",
       "    <tr>\n",
       "      <th>13963</th>\n",
       "      <td>offensive language</td>\n",
       "      <td>hello hardin counti everyon know hoe name ashl...</td>\n",
       "    </tr>\n",
       "    <tr>\n",
       "      <th>4722</th>\n",
       "      <td>offensive language</td>\n",
       "      <td>say would beat like bitch put foot neck shoot</td>\n",
       "    </tr>\n",
       "    <tr>\n",
       "      <th>20329</th>\n",
       "      <td>offensive language</td>\n",
       "      <td>u bitch pay bill fuck</td>\n",
       "    </tr>\n",
       "    <tr>\n",
       "      <th>10234</th>\n",
       "      <td>offensive language</td>\n",
       "      <td>hypocrit littl bitch</td>\n",
       "    </tr>\n",
       "    <tr>\n",
       "      <th>16767</th>\n",
       "      <td>offensive language</td>\n",
       "      <td>cranberri juic niggah cranberri vitamin c piss</td>\n",
       "    </tr>\n",
       "  </tbody>\n",
       "</table>\n",
       "<p>9593 rows × 2 columns</p>\n",
       "</div>"
      ],
      "text/plain": [
       "                    class                                              tweet\n",
       "0                  normal     woman complain clean hous man alway take trash\n",
       "40                 normal                 momma said pussi cat insid doghous\n",
       "63                 normal       simplyaddictedtoguy woof woof hot scalli lad\n",
       "66                 normal                                 woof woof hot sole\n",
       "67                 normal                   lemmi eat oreo dish one oreo lol\n",
       "...                   ...                                                ...\n",
       "13963  offensive language  hello hardin counti everyon know hoe name ashl...\n",
       "4722   offensive language      say would beat like bitch put foot neck shoot\n",
       "20329  offensive language                              u bitch pay bill fuck\n",
       "10234  offensive language                               hypocrit littl bitch\n",
       "16767  offensive language     cranberri juic niggah cranberri vitamin c piss\n",
       "\n",
       "[9593 rows x 2 columns]"
      ]
     },
     "execution_count": 1391,
     "metadata": {},
     "output_type": "execute_result"
    }
   ],
   "source": [
    "data"
   ]
  },
  {
   "cell_type": "code",
   "execution_count": 1392,
   "metadata": {},
   "outputs": [],
   "source": [
    "def sanitize_tweet(tweet):\n",
    "    text = re.sub(\"\\\"+\", \"\", tweet)\n",
    "    text = re.sub(\"\\s+\", \" \", text)\n",
    "    text = re.sub(\"RT\", \"\", text)\n",
    "    text = re.sub(\"https?:?/?/?[^\\s]+\", \"\", text)\n",
    "    text = re.sub(\"&#[0-9]+;\", \"\", text)\n",
    "    text = re.sub(\"&.+;\", \"\", text)\n",
    "    tknzr = TweetTokenizer(preserve_case=False, strip_handles=True)\n",
    "    text = \" \".join([STEMMER.stem(s) for s in tknzr.tokenize(text) if s.isalpha() and s not in STOPWORDS])\n",
    "    return text"
   ]
  },
  {
   "cell_type": "code",
   "execution_count": 1393,
   "metadata": {},
   "outputs": [],
   "source": [
    "old_data[\"tweet\"] = old_data[\"tweet\"].apply(sanitize_tweet)"
   ]
  },
  {
   "cell_type": "code",
   "execution_count": 1394,
   "metadata": {},
   "outputs": [
    {
     "data": {
      "text/html": [
       "<div>\n",
       "<style scoped>\n",
       "    .dataframe tbody tr th:only-of-type {\n",
       "        vertical-align: middle;\n",
       "    }\n",
       "\n",
       "    .dataframe tbody tr th {\n",
       "        vertical-align: top;\n",
       "    }\n",
       "\n",
       "    .dataframe thead th {\n",
       "        text-align: right;\n",
       "    }\n",
       "</style>\n",
       "<table border=\"1\" class=\"dataframe\">\n",
       "  <thead>\n",
       "    <tr style=\"text-align: right;\">\n",
       "      <th></th>\n",
       "      <th>class</th>\n",
       "      <th>tweet</th>\n",
       "    </tr>\n",
       "  </thead>\n",
       "  <tbody>\n",
       "  </tbody>\n",
       "</table>\n",
       "</div>"
      ],
      "text/plain": [
       "Empty DataFrame\n",
       "Columns: [class, tweet]\n",
       "Index: []"
      ]
     },
     "execution_count": 1394,
     "metadata": {},
     "output_type": "execute_result"
    }
   ],
   "source": [
    "old_data[old_data[\"tweet\"].str.contains(\"http\")]"
   ]
  },
  {
   "cell_type": "code",
   "execution_count": 1395,
   "metadata": {},
   "outputs": [
    {
     "data": {
      "text/html": [
       "<div>\n",
       "<style scoped>\n",
       "    .dataframe tbody tr th:only-of-type {\n",
       "        vertical-align: middle;\n",
       "    }\n",
       "\n",
       "    .dataframe tbody tr th {\n",
       "        vertical-align: top;\n",
       "    }\n",
       "\n",
       "    .dataframe thead th {\n",
       "        text-align: right;\n",
       "    }\n",
       "</style>\n",
       "<table border=\"1\" class=\"dataframe\">\n",
       "  <thead>\n",
       "    <tr style=\"text-align: right;\">\n",
       "      <th></th>\n",
       "      <th>class</th>\n",
       "      <th>tweet</th>\n",
       "    </tr>\n",
       "  </thead>\n",
       "  <tbody>\n",
       "    <tr>\n",
       "      <th>0</th>\n",
       "      <td>normal</td>\n",
       "      <td>woman complain clean hous man alway take trash</td>\n",
       "    </tr>\n",
       "    <tr>\n",
       "      <th>40</th>\n",
       "      <td>normal</td>\n",
       "      <td>momma said pussi cat insid doghous</td>\n",
       "    </tr>\n",
       "    <tr>\n",
       "      <th>63</th>\n",
       "      <td>normal</td>\n",
       "      <td>simplyaddictedtoguy woof woof hot scalli lad</td>\n",
       "    </tr>\n",
       "    <tr>\n",
       "      <th>66</th>\n",
       "      <td>normal</td>\n",
       "      <td>woof woof hot sole</td>\n",
       "    </tr>\n",
       "    <tr>\n",
       "      <th>67</th>\n",
       "      <td>normal</td>\n",
       "      <td>lemmi eat oreo dish one oreo lol</td>\n",
       "    </tr>\n",
       "    <tr>\n",
       "      <th>...</th>\n",
       "      <td>...</td>\n",
       "      <td>...</td>\n",
       "    </tr>\n",
       "    <tr>\n",
       "      <th>13963</th>\n",
       "      <td>offensive language</td>\n",
       "      <td>hello hardin counti everyon know hoe name ashl...</td>\n",
       "    </tr>\n",
       "    <tr>\n",
       "      <th>4722</th>\n",
       "      <td>offensive language</td>\n",
       "      <td>say would beat like bitch put foot neck shoot</td>\n",
       "    </tr>\n",
       "    <tr>\n",
       "      <th>20329</th>\n",
       "      <td>offensive language</td>\n",
       "      <td>u bitch pay bill fuck</td>\n",
       "    </tr>\n",
       "    <tr>\n",
       "      <th>10234</th>\n",
       "      <td>offensive language</td>\n",
       "      <td>hypocrit littl bitch</td>\n",
       "    </tr>\n",
       "    <tr>\n",
       "      <th>16767</th>\n",
       "      <td>offensive language</td>\n",
       "      <td>cranberri juic niggah cranberri vitamin c piss</td>\n",
       "    </tr>\n",
       "  </tbody>\n",
       "</table>\n",
       "<p>9593 rows × 2 columns</p>\n",
       "</div>"
      ],
      "text/plain": [
       "                    class                                              tweet\n",
       "0                  normal     woman complain clean hous man alway take trash\n",
       "40                 normal                 momma said pussi cat insid doghous\n",
       "63                 normal       simplyaddictedtoguy woof woof hot scalli lad\n",
       "66                 normal                                 woof woof hot sole\n",
       "67                 normal                   lemmi eat oreo dish one oreo lol\n",
       "...                   ...                                                ...\n",
       "13963  offensive language  hello hardin counti everyon know hoe name ashl...\n",
       "4722   offensive language      say would beat like bitch put foot neck shoot\n",
       "20329  offensive language                              u bitch pay bill fuck\n",
       "10234  offensive language                               hypocrit littl bitch\n",
       "16767  offensive language     cranberri juic niggah cranberri vitamin c piss\n",
       "\n",
       "[9593 rows x 2 columns]"
      ]
     },
     "execution_count": 1395,
     "metadata": {},
     "output_type": "execute_result"
    }
   ],
   "source": [
    "data"
   ]
  },
  {
   "cell_type": "code",
   "execution_count": 1396,
   "metadata": {},
   "outputs": [
    {
     "data": {
      "text/plain": [
       "['offensive language', 'son bitch took tic tac like movi']"
      ]
     },
     "execution_count": 1396,
     "metadata": {},
     "output_type": "execute_result"
    }
   ],
   "source": [
    "old_data.loc[58,:,].tolist()"
   ]
  },
  {
   "cell_type": "code",
   "execution_count": 1397,
   "metadata": {},
   "outputs": [],
   "source": [
    "ol = old_data.loc[old_data['class'] == \"offensive language\"]\n",
    "old_ol = shuffle(ol)\n",
    "ol = old_ol[:4000]\n",
    "\n",
    "rest = data.loc[old_data['class'] != \"offensive language\"]\n",
    "rest = rest.append(ol)\n",
    "data = rest"
   ]
  },
  {
   "cell_type": "code",
   "execution_count": 1398,
   "metadata": {},
   "outputs": [],
   "source": [
    "clf = Pipeline([('vect', CountVectorizer()), ('tfidf', TfidfTransformer()), ('clf', SGDClassifier()),])\n",
    "clf = clf.fit(data[\"tweet\"], data[\"class\"])"
   ]
  },
  {
   "cell_type": "code",
   "execution_count": 1399,
   "metadata": {},
   "outputs": [
    {
     "name": "stdout",
     "output_type": "stream",
     "text": [
      "Hey, panini head! Are you listening? -> normal\n",
      "You're an idiot sandwich -> normal\n",
      "Fuck off you fat useless sack of fucking yankee dankee doodle shite -> hate speech\n",
      "You surprise me as to how bad you are -> normal\n",
      "Fuck off! Fuck off! Fuck off! Fuck off! -> offensive language\n",
      "You guys cook like old people. -> normal\n",
      "There’s enough garlic in here to kill every vampire in Europe. -> normal\n",
      "This soufflé has sunk so badly James Cameron wants to make a film about it. -> normal\n",
      "He cant's count to fucking two! -> hate speech\n",
      "You deserve a kick in the nuts -> normal\n",
      "You look like you're just about to lose your virginity. -> normal\n",
      "You're a fucking disgrace -> hate speech\n"
     ]
    }
   ],
   "source": [
    "docs_new = [\"Hey, panini head! Are you listening?\", \"You're an idiot sandwich\", \"Fuck off you fat useless sack of fucking yankee dankee doodle shite\", \"You surprise me as to how bad you are\", \"Fuck off! Fuck off! Fuck off! Fuck off!\", \"You guys cook like old people.\", \"There’s enough garlic in here to kill every vampire in Europe.\", \"This soufflé has sunk so badly James Cameron wants to make a film about it.\", \"He cant's count to fucking two!\", \"You deserve a kick in the nuts\", \"You look like you're just about to lose your virginity.\", \"You're a fucking disgrace\"]\n",
    "docs_new_sanitized = [sanitize_tweet(s) for s in docs_new]\n",
    "predicted = clf.predict(docs_new_sanitized)\n",
    "for x,y in zip(docs_new, predicted):\n",
    "    print(x, \"->\", y)"
   ]
  },
  {
   "cell_type": "code",
   "execution_count": 1400,
   "metadata": {
    "scrolled": false
   },
   "outputs": [
    {
     "data": {
      "text/plain": [
       "<matplotlib.axes._subplots.AxesSubplot at 0x1fd228fd748>"
      ]
     },
     "execution_count": 1400,
     "metadata": {},
     "output_type": "execute_result"
    },
    {
     "data": {
      "image/png": "[encoded data removed]",
      "text/plain": [
       "<Figure size 432x288 with 1 Axes>"
      ]
     },
     "metadata": {
      "needs_background": "light"
     },
     "output_type": "display_data"
    }
   ],
   "source": [
    "sns.countplot(x=\"class\", data=data)"
   ]
  },
  {
   "cell_type": "code",
   "execution_count": 1401,
   "metadata": {
    "scrolled": true
   },
   "outputs": [
    {
     "name": "stdout",
     "output_type": "stream",
     "text": [
      "                    precision    recall  f1-score   support\n",
      "\n",
      "       hate speech       0.88      0.66      0.75      1430\n",
      "            normal       0.93      0.99      0.96      4163\n",
      "offensive language       0.90      0.93      0.92      4000\n",
      "\n",
      "          accuracy                           0.91      9593\n",
      "         macro avg       0.90      0.86      0.88      9593\n",
      "      weighted avg       0.91      0.91      0.91      9593\n",
      "\n"
     ]
    }
   ],
   "source": [
    "print(metrics.classification_report(data[\"class\"], clf.predict(data[\"tweet\"])))"
   ]
  },
  {
   "cell_type": "code",
   "execution_count": 1402,
   "metadata": {},
   "outputs": [
    {
     "name": "stderr",
     "output_type": "stream",
     "text": [
      "c:\\python37\\lib\\site-packages\\sklearn\\metrics\\classification.py:1439: UndefinedMetricWarning: Recall and F-score are ill-defined and being set to 0.0 in labels with no true samples.\n",
      "  'recall', 'true', average, warn_for)\n"
     ]
    },
    {
     "name": "stdout",
     "output_type": "stream",
     "text": [
      "                    precision    recall  f1-score   support\n",
      "\n",
      "       hate speech       0.00      0.00      0.00         0\n",
      "            normal       0.00      0.00      0.00         0\n",
      "offensive language       1.00      0.88      0.94     19190\n",
      "\n",
      "          accuracy                           0.88     19190\n",
      "         macro avg       0.33      0.29      0.31     19190\n",
      "      weighted avg       1.00      0.88      0.94     19190\n",
      "\n"
     ]
    }
   ],
   "source": [
    "print(metrics.classification_report(old_ol[\"class\"], clf.predict(old_ol[\"tweet\"])))"
   ]
  },
  {
   "cell_type": "code",
   "execution_count": 1403,
   "metadata": {},
   "outputs": [
    {
     "name": "stdout",
     "output_type": "stream",
     "text": [
      "                    precision    recall  f1-score   support\n",
      "\n",
      "       hate speech       0.48      0.66      0.56      1430\n",
      "            normal       0.74      0.99      0.85      4163\n",
      "offensive language       0.98      0.88      0.93     19190\n",
      "\n",
      "          accuracy                           0.89     24783\n",
      "         macro avg       0.73      0.84      0.78     24783\n",
      "      weighted avg       0.91      0.89      0.89     24783\n",
      "\n"
     ]
    }
   ],
   "source": [
    "print(metrics.classification_report(old_data[\"class\"], clf.predict(old_data[\"tweet\"])))"
   ]
  },
  {
   "cell_type": "code",
   "execution_count": null,
   "metadata": {},
   "outputs": [],
   "source": []
  }
 ],
 "metadata": {
  "kernelspec": {
   "display_name": "Python 3",
   "language": "python",
   "name": "python3"
  },
  "language_info": {
   "codemirror_mode": {
    "name": "ipython",
    "version": 3
   },
   "file_extension": ".py",
   "mimetype": "text/x-python",
   "name": "python",
   "nbconvert_exporter": "python",
   "pygments_lexer": "ipython3",
   "version": "3.7.4"
  }
 },
 "nbformat": 4,
 "nbformat_minor": 2
}
